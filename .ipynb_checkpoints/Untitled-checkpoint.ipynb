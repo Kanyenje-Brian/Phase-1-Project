{
 "cells": [
  {
   "cell_type": "markdown",
   "metadata": {},
   "source": [
    "Objectives\n",
    "\n",
    "To uncover which aeroplane category and make have the lowest accidents or fatality rates\n",
    "Determine which aeroplane engine types have the lowest plane crashes.\n",
    "To uncover the aeroplane models that have fewer accidents in adverse weather.\n",
    "To uncover planes that crashed the least during critical phases of the flight\n"
   ]
  }
 ],
 "metadata": {
  "kernelspec": {
   "display_name": "Python (learn-env)",
   "language": "python",
   "name": "learn-env"
  },
  "language_info": {
   "codemirror_mode": {
    "name": "ipython",
    "version": 3
   },
   "file_extension": ".py",
   "mimetype": "text/x-python",
   "name": "python",
   "nbconvert_exporter": "python",
   "pygments_lexer": "ipython3",
   "version": "3.12.7"
  }
 },
 "nbformat": 4,
 "nbformat_minor": 4
}
