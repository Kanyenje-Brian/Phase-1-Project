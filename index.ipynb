{
 "cells": [
  {
   "cell_type": "markdown",
   "metadata": {},
   "source": [
    "# VANGUARD LTD. AIRCRAFT INSIGHT"
   ]
  },
  {
   "cell_type": "markdown",
   "metadata": {},
   "source": [
    "Vanguard, a Business Conglomerate, is interested in expanding its portfolio and has set its scope on purchasing and operating planes for both private and commercial enterprises. However, with no prior experience in the aviation sector, the company needs guidance on which airplanes to invest on as diffrerent airplanes pose different risk factors. In order to provide guidance to the company, intensive research on different airplane data will be done in order to generate insight on which airplanes pose the lowest risks. The insight will be used by the head of the new aviation division in deciding on which airplanes to purchase and operate."
   ]
  },
  {
   "cell_type": "markdown",
   "metadata": {},
   "source": [
    "### Objectives\n",
    "\n",
    "1. Identify the airplane models and manufacturers with the lowest accident rates.\n",
    "\n",
    "2. Determine which airplane engine types are associated with the lowest crash rates.\n",
    "\n",
    "3. Identify the safest airplane operations with the lowest incidence of plane crashes."
   ]
  },
  {
   "cell_type": "markdown",
   "metadata": {},
   "source": [
    "## DATA UNDERSTANDING"
   ]
  },
  {
   "cell_type": "markdown",
   "metadata": {},
   "source": [
    "The data to be used in the analysis was gotten from Kaggle, a data science platform, which has multiple datasets. \n",
    "\n",
    "The particular dataset was from the National Transportation Safety Board (NTSB). This dataset is comprised of aviation accidents data from 1962 to 2023 about civil aviation accidents and selected incidents within the United States, its territories and international waters. This makes the data relevant to this study as it includes all the relevant information regarding the accidents (the aircraft type, type of flight, the engine type, and the weather during the incident). All this data will make it possible to fulfill the objectives of the study. \n",
    "The dataset comprises of two csv files namely `AviationData.csv` and `USState_Codes.csv`. Let's load the two csv files one at a time in order to study their properties:"
   ]
  },
  {
   "cell_type": "code",
   "execution_count": 1,
   "metadata": {},
   "outputs": [],
   "source": [
    "# Import the necessary libraries first\n",
    "import pandas as pd\n",
    "import matplotlib.pyplot as plt\n",
    "import seaborn as sns"
   ]
  },
  {
   "cell_type": "markdown",
   "metadata": {},
   "source": [
    "### AVIATION DATA \n",
    "\n",
    "The first dataset is the `AviationData.csv`:"
   ]
  },
  {
   "cell_type": "code",
   "execution_count": 2,
   "metadata": {},
   "outputs": [
    {
     "data": {
      "text/html": [
       "<div>\n",
       "<style scoped>\n",
       "    .dataframe tbody tr th:only-of-type {\n",
       "        vertical-align: middle;\n",
       "    }\n",
       "\n",
       "    .dataframe tbody tr th {\n",
       "        vertical-align: top;\n",
       "    }\n",
       "\n",
       "    .dataframe thead th {\n",
       "        text-align: right;\n",
       "    }\n",
       "</style>\n",
       "<table border=\"1\" class=\"dataframe\">\n",
       "  <thead>\n",
       "    <tr style=\"text-align: right;\">\n",
       "      <th></th>\n",
       "      <th>Event.Id</th>\n",
       "      <th>Investigation.Type</th>\n",
       "      <th>Accident.Number</th>\n",
       "      <th>Event.Date</th>\n",
       "      <th>Location</th>\n",
       "      <th>Country</th>\n",
       "      <th>Latitude</th>\n",
       "      <th>Longitude</th>\n",
       "      <th>Airport.Code</th>\n",
       "      <th>Airport.Name</th>\n",
       "      <th>...</th>\n",
       "      <th>Purpose.of.flight</th>\n",
       "      <th>Air.carrier</th>\n",
       "      <th>Total.Fatal.Injuries</th>\n",
       "      <th>Total.Serious.Injuries</th>\n",
       "      <th>Total.Minor.Injuries</th>\n",
       "      <th>Total.Uninjured</th>\n",
       "      <th>Weather.Condition</th>\n",
       "      <th>Broad.phase.of.flight</th>\n",
       "      <th>Report.Status</th>\n",
       "      <th>Publication.Date</th>\n",
       "    </tr>\n",
       "  </thead>\n",
       "  <tbody>\n",
       "    <tr>\n",
       "      <th>0</th>\n",
       "      <td>20001218X45444</td>\n",
       "      <td>Accident</td>\n",
       "      <td>SEA87LA080</td>\n",
       "      <td>1948-10-24</td>\n",
       "      <td>MOOSE CREEK, ID</td>\n",
       "      <td>United States</td>\n",
       "      <td>NaN</td>\n",
       "      <td>NaN</td>\n",
       "      <td>NaN</td>\n",
       "      <td>NaN</td>\n",
       "      <td>...</td>\n",
       "      <td>Personal</td>\n",
       "      <td>NaN</td>\n",
       "      <td>2.0</td>\n",
       "      <td>0.0</td>\n",
       "      <td>0.0</td>\n",
       "      <td>0.0</td>\n",
       "      <td>UNK</td>\n",
       "      <td>Cruise</td>\n",
       "      <td>Probable Cause</td>\n",
       "      <td>NaN</td>\n",
       "    </tr>\n",
       "    <tr>\n",
       "      <th>1</th>\n",
       "      <td>20001218X45447</td>\n",
       "      <td>Accident</td>\n",
       "      <td>LAX94LA336</td>\n",
       "      <td>1962-07-19</td>\n",
       "      <td>BRIDGEPORT, CA</td>\n",
       "      <td>United States</td>\n",
       "      <td>NaN</td>\n",
       "      <td>NaN</td>\n",
       "      <td>NaN</td>\n",
       "      <td>NaN</td>\n",
       "      <td>...</td>\n",
       "      <td>Personal</td>\n",
       "      <td>NaN</td>\n",
       "      <td>4.0</td>\n",
       "      <td>0.0</td>\n",
       "      <td>0.0</td>\n",
       "      <td>0.0</td>\n",
       "      <td>UNK</td>\n",
       "      <td>Unknown</td>\n",
       "      <td>Probable Cause</td>\n",
       "      <td>19-09-1996</td>\n",
       "    </tr>\n",
       "    <tr>\n",
       "      <th>2</th>\n",
       "      <td>20061025X01555</td>\n",
       "      <td>Accident</td>\n",
       "      <td>NYC07LA005</td>\n",
       "      <td>1974-08-30</td>\n",
       "      <td>Saltville, VA</td>\n",
       "      <td>United States</td>\n",
       "      <td>36.922223</td>\n",
       "      <td>-81.878056</td>\n",
       "      <td>NaN</td>\n",
       "      <td>NaN</td>\n",
       "      <td>...</td>\n",
       "      <td>Personal</td>\n",
       "      <td>NaN</td>\n",
       "      <td>3.0</td>\n",
       "      <td>NaN</td>\n",
       "      <td>NaN</td>\n",
       "      <td>NaN</td>\n",
       "      <td>IMC</td>\n",
       "      <td>Cruise</td>\n",
       "      <td>Probable Cause</td>\n",
       "      <td>26-02-2007</td>\n",
       "    </tr>\n",
       "    <tr>\n",
       "      <th>3</th>\n",
       "      <td>20001218X45448</td>\n",
       "      <td>Accident</td>\n",
       "      <td>LAX96LA321</td>\n",
       "      <td>1977-06-19</td>\n",
       "      <td>EUREKA, CA</td>\n",
       "      <td>United States</td>\n",
       "      <td>NaN</td>\n",
       "      <td>NaN</td>\n",
       "      <td>NaN</td>\n",
       "      <td>NaN</td>\n",
       "      <td>...</td>\n",
       "      <td>Personal</td>\n",
       "      <td>NaN</td>\n",
       "      <td>2.0</td>\n",
       "      <td>0.0</td>\n",
       "      <td>0.0</td>\n",
       "      <td>0.0</td>\n",
       "      <td>IMC</td>\n",
       "      <td>Cruise</td>\n",
       "      <td>Probable Cause</td>\n",
       "      <td>12-09-2000</td>\n",
       "    </tr>\n",
       "    <tr>\n",
       "      <th>4</th>\n",
       "      <td>20041105X01764</td>\n",
       "      <td>Accident</td>\n",
       "      <td>CHI79FA064</td>\n",
       "      <td>1979-08-02</td>\n",
       "      <td>Canton, OH</td>\n",
       "      <td>United States</td>\n",
       "      <td>NaN</td>\n",
       "      <td>NaN</td>\n",
       "      <td>NaN</td>\n",
       "      <td>NaN</td>\n",
       "      <td>...</td>\n",
       "      <td>Personal</td>\n",
       "      <td>NaN</td>\n",
       "      <td>1.0</td>\n",
       "      <td>2.0</td>\n",
       "      <td>NaN</td>\n",
       "      <td>0.0</td>\n",
       "      <td>VMC</td>\n",
       "      <td>Approach</td>\n",
       "      <td>Probable Cause</td>\n",
       "      <td>16-04-1980</td>\n",
       "    </tr>\n",
       "  </tbody>\n",
       "</table>\n",
       "<p>5 rows × 31 columns</p>\n",
       "</div>"
      ],
      "text/plain": [
       "         Event.Id Investigation.Type Accident.Number  Event.Date  \\\n",
       "0  20001218X45444           Accident      SEA87LA080  1948-10-24   \n",
       "1  20001218X45447           Accident      LAX94LA336  1962-07-19   \n",
       "2  20061025X01555           Accident      NYC07LA005  1974-08-30   \n",
       "3  20001218X45448           Accident      LAX96LA321  1977-06-19   \n",
       "4  20041105X01764           Accident      CHI79FA064  1979-08-02   \n",
       "\n",
       "          Location        Country   Latitude   Longitude Airport.Code  \\\n",
       "0  MOOSE CREEK, ID  United States        NaN         NaN          NaN   \n",
       "1   BRIDGEPORT, CA  United States        NaN         NaN          NaN   \n",
       "2    Saltville, VA  United States  36.922223  -81.878056          NaN   \n",
       "3       EUREKA, CA  United States        NaN         NaN          NaN   \n",
       "4       Canton, OH  United States        NaN         NaN          NaN   \n",
       "\n",
       "  Airport.Name  ... Purpose.of.flight Air.carrier Total.Fatal.Injuries  \\\n",
       "0          NaN  ...          Personal         NaN                  2.0   \n",
       "1          NaN  ...          Personal         NaN                  4.0   \n",
       "2          NaN  ...          Personal         NaN                  3.0   \n",
       "3          NaN  ...          Personal         NaN                  2.0   \n",
       "4          NaN  ...          Personal         NaN                  1.0   \n",
       "\n",
       "  Total.Serious.Injuries Total.Minor.Injuries Total.Uninjured  \\\n",
       "0                    0.0                  0.0             0.0   \n",
       "1                    0.0                  0.0             0.0   \n",
       "2                    NaN                  NaN             NaN   \n",
       "3                    0.0                  0.0             0.0   \n",
       "4                    2.0                  NaN             0.0   \n",
       "\n",
       "  Weather.Condition  Broad.phase.of.flight   Report.Status Publication.Date  \n",
       "0               UNK                 Cruise  Probable Cause              NaN  \n",
       "1               UNK                Unknown  Probable Cause       19-09-1996  \n",
       "2               IMC                 Cruise  Probable Cause       26-02-2007  \n",
       "3               IMC                 Cruise  Probable Cause       12-09-2000  \n",
       "4               VMC               Approach  Probable Cause       16-04-1980  \n",
       "\n",
       "[5 rows x 31 columns]"
      ]
     },
     "execution_count": 2,
     "metadata": {},
     "output_type": "execute_result"
    }
   ],
   "source": [
    "# Load the csv file\n",
    "aviation = pd.read_csv('./Data/AviationData.csv',  encoding='latin1', low_memory=False)\n",
    "aviation.head()"
   ]
  },
  {
   "cell_type": "code",
   "execution_count": 3,
   "metadata": {},
   "outputs": [
    {
     "name": "stdout",
     "output_type": "stream",
     "text": [
      "-----The datatframe shape is as follows:-----\n",
      "\n",
      "(88889, 31) \n",
      "\n",
      "-----The summary for the dataframe is as follows:-----\n",
      "\n",
      "<class 'pandas.core.frame.DataFrame'>\n",
      "RangeIndex: 88889 entries, 0 to 88888\n",
      "Data columns (total 31 columns):\n",
      " #   Column                  Non-Null Count  Dtype  \n",
      "---  ------                  --------------  -----  \n",
      " 0   Event.Id                88889 non-null  object \n",
      " 1   Investigation.Type      88889 non-null  object \n",
      " 2   Accident.Number         88889 non-null  object \n",
      " 3   Event.Date              88889 non-null  object \n",
      " 4   Location                88837 non-null  object \n",
      " 5   Country                 88663 non-null  object \n",
      " 6   Latitude                34382 non-null  object \n",
      " 7   Longitude               34373 non-null  object \n",
      " 8   Airport.Code            50132 non-null  object \n",
      " 9   Airport.Name            52704 non-null  object \n",
      " 10  Injury.Severity         87889 non-null  object \n",
      " 11  Aircraft.damage         85695 non-null  object \n",
      " 12  Aircraft.Category       32287 non-null  object \n",
      " 13  Registration.Number     87507 non-null  object \n",
      " 14  Make                    88826 non-null  object \n",
      " 15  Model                   88797 non-null  object \n",
      " 16  Amateur.Built           88787 non-null  object \n",
      " 17  Number.of.Engines       82805 non-null  float64\n",
      " 18  Engine.Type             81793 non-null  object \n",
      " 19  FAR.Description         32023 non-null  object \n",
      " 20  Schedule                12582 non-null  object \n",
      " 21  Purpose.of.flight       82697 non-null  object \n",
      " 22  Air.carrier             16648 non-null  object \n",
      " 23  Total.Fatal.Injuries    77488 non-null  float64\n",
      " 24  Total.Serious.Injuries  76379 non-null  float64\n",
      " 25  Total.Minor.Injuries    76956 non-null  float64\n",
      " 26  Total.Uninjured         82977 non-null  float64\n",
      " 27  Weather.Condition       84397 non-null  object \n",
      " 28  Broad.phase.of.flight   61724 non-null  object \n",
      " 29  Report.Status           82505 non-null  object \n",
      " 30  Publication.Date        75118 non-null  object \n",
      "dtypes: float64(5), object(26)\n",
      "memory usage: 21.0+ MB\n",
      "None \n",
      "\n",
      "-----The descriptive statistics for the dataframe are as follows:-----\n",
      "\n",
      "       Number.of.Engines  Total.Fatal.Injuries  Total.Serious.Injuries  \\\n",
      "count       82805.000000          77488.000000            76379.000000   \n",
      "mean            1.146585              0.647855                0.279881   \n",
      "std             0.446510              5.485960                1.544084   \n",
      "min             0.000000              0.000000                0.000000   \n",
      "25%             1.000000              0.000000                0.000000   \n",
      "50%             1.000000              0.000000                0.000000   \n",
      "75%             1.000000              0.000000                0.000000   \n",
      "max             8.000000            349.000000              161.000000   \n",
      "\n",
      "       Total.Minor.Injuries  Total.Uninjured  \n",
      "count          76956.000000     82977.000000  \n",
      "mean               0.357061         5.325440  \n",
      "std                2.235625        27.913634  \n",
      "min                0.000000         0.000000  \n",
      "25%                0.000000         0.000000  \n",
      "50%                0.000000         1.000000  \n",
      "75%                0.000000         2.000000  \n",
      "max              380.000000       699.000000   \n",
      "\n"
     ]
    }
   ],
   "source": [
    "# Let's inspect the dataframe\n",
    "\n",
    "from Data_Info import description # A data function created to provide dataframe info and summary statistics\n",
    "\n",
    "description(aviation)"
   ]
  },
  {
   "cell_type": "markdown",
   "metadata": {},
   "source": [
    "From the information above, the dataframe has a total of 88889 rows and 31 columns. Out of all the 31 columns, only four columns don't have missing values namely: `Event.ID`, `Investigation.Type`, `Accident.Number` and `Event.Date` columns. This is a **limitation** since the missing values may reduce the accuracy of the analysis. Most of the columns in the dataframe have string values and only five columns that have been included in the descriptive statistics have integer values.\n",
    "\n",
    "The descriptive statistics on the `Number.Of.Engines` column provides more insight on what to expect. The column has a mean of 1.146585 indicating that on average the planes in the dataset have one engine. The maximum value for the column is 8 showing that in the records there are plane/s with 8 engines on board. \n",
    "\n",
    "The dataframe also includes columns which have data about the weather conditions, the phase of the flight at the time of the accident and the category, make and model of the aircraft involved. All this data justifies the use of this dataset as it will greatly help in reaching the objectives of the study."
   ]
  },
  {
   "cell_type": "markdown",
   "metadata": {},
   "source": [
    "### US STATES DATA"
   ]
  },
  {
   "cell_type": "markdown",
   "metadata": {},
   "source": [
    "The second dataset is the `USState_Codes.csv` file. Let's analyze the dataset:"
   ]
  },
  {
   "cell_type": "code",
   "execution_count": 4,
   "metadata": {},
   "outputs": [
    {
     "data": {
      "text/html": [
       "<div>\n",
       "<style scoped>\n",
       "    .dataframe tbody tr th:only-of-type {\n",
       "        vertical-align: middle;\n",
       "    }\n",
       "\n",
       "    .dataframe tbody tr th {\n",
       "        vertical-align: top;\n",
       "    }\n",
       "\n",
       "    .dataframe thead th {\n",
       "        text-align: right;\n",
       "    }\n",
       "</style>\n",
       "<table border=\"1\" class=\"dataframe\">\n",
       "  <thead>\n",
       "    <tr style=\"text-align: right;\">\n",
       "      <th></th>\n",
       "      <th>US_State</th>\n",
       "      <th>Abbreviation</th>\n",
       "    </tr>\n",
       "  </thead>\n",
       "  <tbody>\n",
       "    <tr>\n",
       "      <th>0</th>\n",
       "      <td>Alabama</td>\n",
       "      <td>AL</td>\n",
       "    </tr>\n",
       "    <tr>\n",
       "      <th>1</th>\n",
       "      <td>Alaska</td>\n",
       "      <td>AK</td>\n",
       "    </tr>\n",
       "    <tr>\n",
       "      <th>2</th>\n",
       "      <td>Arizona</td>\n",
       "      <td>AZ</td>\n",
       "    </tr>\n",
       "    <tr>\n",
       "      <th>3</th>\n",
       "      <td>Arkansas</td>\n",
       "      <td>AR</td>\n",
       "    </tr>\n",
       "    <tr>\n",
       "      <th>4</th>\n",
       "      <td>California</td>\n",
       "      <td>CA</td>\n",
       "    </tr>\n",
       "  </tbody>\n",
       "</table>\n",
       "</div>"
      ],
      "text/plain": [
       "     US_State Abbreviation\n",
       "0     Alabama           AL\n",
       "1      Alaska           AK\n",
       "2     Arizona           AZ\n",
       "3    Arkansas           AR\n",
       "4  California           CA"
      ]
     },
     "execution_count": 4,
     "metadata": {},
     "output_type": "execute_result"
    }
   ],
   "source": [
    "states = pd.read_csv('./Data/USState_Codes.csv')\n",
    "states.head()"
   ]
  },
  {
   "cell_type": "markdown",
   "metadata": {},
   "source": [
    "A preview of the dataframe shows that the dataset contains a list of US States and the abbreviation used in the aviation dataframe. To ascertain whether this is the case, let's preview the `Location` column in the aviation dataframe:"
   ]
  },
  {
   "cell_type": "code",
   "execution_count": 5,
   "metadata": {},
   "outputs": [
    {
     "data": {
      "text/plain": [
       "0        MOOSE CREEK, ID\n",
       "1         BRIDGEPORT, CA\n",
       "2          Saltville, VA\n",
       "3             EUREKA, CA\n",
       "4             Canton, OH\n",
       "              ...       \n",
       "88884      Annapolis, MD\n",
       "88885        Hampton, NH\n",
       "88886         Payson, AZ\n",
       "88887         Morgan, UT\n",
       "88888         Athens, GA\n",
       "Name: Location, Length: 88889, dtype: object"
      ]
     },
     "execution_count": 5,
     "metadata": {},
     "output_type": "execute_result"
    }
   ],
   "source": [
    "aviation['Location']"
   ]
  },
  {
   "cell_type": "markdown",
   "metadata": {},
   "source": [
    "The column contains the exact location where the accident happen followed by an abbreviation of the state where the accident happened. Next, let's get some details about the dataframe:"
   ]
  },
  {
   "cell_type": "code",
   "execution_count": 6,
   "metadata": {},
   "outputs": [
    {
     "name": "stdout",
     "output_type": "stream",
     "text": [
      "-----The datatframe shape is as follows:-----\n",
      "\n",
      "(62, 2) \n",
      "\n",
      "-----The summary for the dataframe is as follows:-----\n",
      "\n",
      "<class 'pandas.core.frame.DataFrame'>\n",
      "RangeIndex: 62 entries, 0 to 61\n",
      "Data columns (total 2 columns):\n",
      " #   Column        Non-Null Count  Dtype \n",
      "---  ------        --------------  ----- \n",
      " 0   US_State      62 non-null     object\n",
      " 1   Abbreviation  62 non-null     object\n",
      "dtypes: object(2)\n",
      "memory usage: 1.1+ KB\n",
      "None \n",
      "\n",
      "-----The descriptive statistics for the dataframe are as follows:-----\n",
      "\n",
      "       US_State Abbreviation\n",
      "count        62           62\n",
      "unique       62           62\n",
      "top     Alabama           AL\n",
      "freq          1            1 \n",
      "\n"
     ]
    }
   ],
   "source": [
    "description(states)"
   ]
  },
  {
   "cell_type": "markdown",
   "metadata": {},
   "source": [
    "The dataframe has a total of 88 rows and two columns namely `US_State` and `Abbreviation` columns. The two columns have string data types meaning no descriptive statistics could be derived from them. The two columns also have no missing values which is an advantage.\n",
    "\n",
    "The `states` dataframe will be used to link the location of the accident in the `aviation` dataframe with the exact state in which the accident happened."
   ]
  },
  {
   "cell_type": "markdown",
   "metadata": {},
   "source": [
    "## DATA PREPARATION"
   ]
  },
  {
   "cell_type": "markdown",
   "metadata": {},
   "source": [
    "At this point, it is essential to manipulate and make the changes to the dataframe in order to make it beter suited for adata analysis. To begin with, there are a total of 31 columns in the `aviation` dataframe and most of the columns are not needed in the analysis and do not aid in us reaching our objectives. This can be remedied by dropping the columns that are not needed for the analysis: \n",
    "\n",
    "Firstly let's pick the columns in the dataframe that will be needed and drop the rest:"
   ]
  },
  {
   "cell_type": "code",
   "execution_count": 7,
   "metadata": {},
   "outputs": [
    {
     "data": {
      "text/plain": [
       "Index(['Event.Id', 'Investigation.Type', 'Accident.Number', 'Event.Date',\n",
       "       'Location', 'Country', 'Latitude', 'Longitude', 'Airport.Code',\n",
       "       'Airport.Name', 'Injury.Severity', 'Aircraft.damage',\n",
       "       'Aircraft.Category', 'Registration.Number', 'Make', 'Model',\n",
       "       'Amateur.Built', 'Number.of.Engines', 'Engine.Type', 'FAR.Description',\n",
       "       'Schedule', 'Purpose.of.flight', 'Air.carrier', 'Total.Fatal.Injuries',\n",
       "       'Total.Serious.Injuries', 'Total.Minor.Injuries', 'Total.Uninjured',\n",
       "       'Weather.Condition', 'Broad.phase.of.flight', 'Report.Status',\n",
       "       'Publication.Date'],\n",
       "      dtype='object')"
      ]
     },
     "execution_count": 7,
     "metadata": {},
     "output_type": "execute_result"
    }
   ],
   "source": [
    "aviation.columns"
   ]
  },
  {
   "cell_type": "code",
   "execution_count": 8,
   "metadata": {},
   "outputs": [],
   "source": [
    "# First, add total minor, serious and fatal injuries to a new column \n",
    "aviation['Total.Injuries'] = aviation['Total.Fatal.Injuries'] + aviation['Total.Serious.Injuries'] + aviation['Total.Minor.Injuries'] \n",
    "\n",
    "# Create a list of the columns that seem relevant to the analysis\n",
    "columns = ['Investigation.Type', 'Event.Date', 'Location', 'Country', 'Total.Injuries','Aircraft.Category','Make', \n",
    "           'Model', 'Number.of.Engines', 'Engine.Type','Purpose.of.flight', 'Aircraft.damage']\n",
    "\n",
    "# Assign the relevant columns to a new dataframe called aviation1\n",
    "aviation_1 = aviation[columns]\n",
    "aviation_1 = aviation_1.copy()"
   ]
  },
  {
   "cell_type": "code",
   "execution_count": 9,
   "metadata": {},
   "outputs": [
    {
     "data": {
      "text/plain": [
       "(88889, 12)"
      ]
     },
     "execution_count": 9,
     "metadata": {},
     "output_type": "execute_result"
    }
   ],
   "source": [
    "aviation_1.shape"
   ]
  },
  {
   "cell_type": "markdown",
   "metadata": {},
   "source": [
    "The number of columns have dropped from 31 to 12 columns making it all the more easier to work with the new dataframe. Next, let's check the values in the `Make` column:"
   ]
  },
  {
   "cell_type": "code",
   "execution_count": 10,
   "metadata": {},
   "outputs": [
    {
     "data": {
      "text/plain": [
       "Make\n",
       "Cessna             22227\n",
       "Piper              12029\n",
       "CESSNA              4922\n",
       "Beech               4330\n",
       "PIPER               2841\n",
       "                   ...  \n",
       "Leonard Walters        1\n",
       "Maule Air Inc.         1\n",
       "Motley Vans            1\n",
       "Perlick                1\n",
       "ROYSE RALPH L          1\n",
       "Name: count, Length: 8237, dtype: int64"
      ]
     },
     "execution_count": 10,
     "metadata": {},
     "output_type": "execute_result"
    }
   ],
   "source": [
    "aviation['Make'].value_counts()"
   ]
  },
  {
   "cell_type": "markdown",
   "metadata": {},
   "source": [
    "In this case, some makes, like 'Cessna,' appear twice—once in sentence case and once with all letters capitalized. To resolve this, we should standardize the case for all values to eliminate repetition and ensure consistency:"
   ]
  },
  {
   "cell_type": "code",
   "execution_count": 11,
   "metadata": {},
   "outputs": [],
   "source": [
    "# Set the values to be in title case\n",
    "aviation_1['Make'] = aviation_1['Make'].apply(lambda x: str(x).title())"
   ]
  },
  {
   "cell_type": "markdown",
   "metadata": {},
   "source": [
    "Let's do the same to the `Model` column:"
   ]
  },
  {
   "cell_type": "code",
   "execution_count": 12,
   "metadata": {},
   "outputs": [],
   "source": [
    "aviation_1['Model'] = aviation_1['Model'].apply(lambda x: str(x).title())"
   ]
  },
  {
   "cell_type": "markdown",
   "metadata": {},
   "source": [
    "Next, let's check on the years in which the accidents happened:"
   ]
  },
  {
   "cell_type": "code",
   "execution_count": 13,
   "metadata": {},
   "outputs": [
    {
     "data": {
      "text/plain": [
       "array(['1948-10-24', '1962-07-19', '1974-08-30', ..., '2022-12-22',\n",
       "       '2022-12-26', '2022-12-29'], dtype=object)"
      ]
     },
     "execution_count": 13,
     "metadata": {},
     "output_type": "execute_result"
    }
   ],
   "source": [
    "aviation_1['Event.Date'].unique()"
   ]
  },
  {
   "cell_type": "markdown",
   "metadata": {},
   "source": [
    "The values in this column are in string form and need to be converted to proper date format:"
   ]
  },
  {
   "cell_type": "code",
   "execution_count": 14,
   "metadata": {},
   "outputs": [
    {
     "data": {
      "text/plain": [
       "0       1948-10-24\n",
       "1       1962-07-19\n",
       "2       1974-08-30\n",
       "3       1977-06-19\n",
       "4       1979-08-02\n",
       "           ...    \n",
       "88884   2022-12-26\n",
       "88885   2022-12-26\n",
       "88886   2022-12-26\n",
       "88887   2022-12-26\n",
       "88888   2022-12-29\n",
       "Name: Event.Date, Length: 88889, dtype: datetime64[ns]"
      ]
     },
     "execution_count": 14,
     "metadata": {},
     "output_type": "execute_result"
    }
   ],
   "source": [
    "aviation_1['Event.Date'] = pd.to_datetime(aviation_1['Event.Date'])\n",
    "aviation_1['Event.Date']"
   ]
  },
  {
   "cell_type": "markdown",
   "metadata": {},
   "source": [
    "Some cases are as early as 1948. It is best to filter out the incidences in order to avoid dealing with old planes that are either outdated or not even in the market anymore. Let's filter the df to only have incidences that not older than the year 2000."
   ]
  },
  {
   "cell_type": "code",
   "execution_count": 15,
   "metadata": {},
   "outputs": [],
   "source": [
    "# Filter the accidents to only include those not older than 2000\n",
    "aviation_1 = aviation_1[aviation_1['Event.Date'].dt.year > 2000]"
   ]
  },
  {
   "cell_type": "markdown",
   "metadata": {},
   "source": [
    "Next, let's check the unique values in the `Engine.Type` column:"
   ]
  },
  {
   "cell_type": "code",
   "execution_count": 16,
   "metadata": {},
   "outputs": [
    {
     "data": {
      "text/plain": [
       "array(['Reciprocating', 'Turbo Prop', nan, 'Turbo Fan', 'Turbo Shaft',\n",
       "       'Turbo Jet', 'Unknown', 'Electric', 'Hybrid Rocket',\n",
       "       'Geared Turbofan', 'LR', 'NONE', 'UNK'], dtype=object)"
      ]
     },
     "execution_count": 16,
     "metadata": {},
     "output_type": "execute_result"
    }
   ],
   "source": [
    "aviation_1['Engine.Type'].unique()"
   ]
  },
  {
   "cell_type": "markdown",
   "metadata": {},
   "source": [
    "Some of the values have either been inputted as `Uknown` or `NONE`. Let's drop these values so that we can remain with only the values referencing an engine type in the aviation industry:"
   ]
  },
  {
   "cell_type": "code",
   "execution_count": 17,
   "metadata": {},
   "outputs": [],
   "source": [
    "# Filter the 'Unknown' and 'NONE' values in the column\n",
    "aviation_1 = aviation_1[(aviation_1['Engine.Type'] != 'Unknown') & (aviation_1['Engine.Type'] != 'NONE')]"
   ]
  },
  {
   "cell_type": "markdown",
   "metadata": {},
   "source": [
    "Let's ascertain whether the filtering has worked:"
   ]
  },
  {
   "cell_type": "code",
   "execution_count": 18,
   "metadata": {},
   "outputs": [
    {
     "data": {
      "text/plain": [
       "array(['Reciprocating', 'Turbo Prop', nan, 'Turbo Fan', 'Turbo Shaft',\n",
       "       'Turbo Jet', 'Electric', 'Hybrid Rocket', 'Geared Turbofan', 'LR',\n",
       "       'UNK'], dtype=object)"
      ]
     },
     "execution_count": 18,
     "metadata": {},
     "output_type": "execute_result"
    }
   ],
   "source": [
    "aviation_1['Engine.Type'].unique()"
   ]
  },
  {
   "cell_type": "markdown",
   "metadata": {},
   "source": [
    "Next, some of the planes listed on the dataset were used for purposes other than commercial or private. Let's check the purposes listed in the dataset:"
   ]
  },
  {
   "cell_type": "code",
   "execution_count": 19,
   "metadata": {},
   "outputs": [
    {
     "data": {
      "text/plain": [
       "array(['Personal', 'Instructional', nan, 'Positioning',\n",
       "       'Aerial Application', 'Skydiving', 'Business', 'Public Aircraft',\n",
       "       'Executive/corporate', 'Ferry', 'Aerial Observation',\n",
       "       'Other Work Use', 'Flight Test', 'Unknown', 'Air Race/show',\n",
       "       'Air Drop', 'Public Aircraft - Federal', 'Glider Tow',\n",
       "       'Public Aircraft - Local', 'External Load',\n",
       "       'Public Aircraft - State', 'Banner Tow', 'Firefighting',\n",
       "       'Air Race show', 'PUBS', 'ASHO', 'PUBL'], dtype=object)"
      ]
     },
     "execution_count": 19,
     "metadata": {},
     "output_type": "execute_result"
    }
   ],
   "source": [
    "aviation_1['Purpose.of.flight'].unique()"
   ]
  },
  {
   "cell_type": "markdown",
   "metadata": {},
   "source": [
    "Majority of the planes were used for purposes that do not alight with the data analysis since Vanguard Ltd. plans to use the planes ofr private and commercial purposes. After some research, I was able to come to the conclusion that the purposes that align with the analysis are `Business`, `Executive/corporate`, `Ferry`, `Personal` and `Positioning`. Let's filter the dataset to only remain with planes that alight with this. "
   ]
  },
  {
   "cell_type": "code",
   "execution_count": 20,
   "metadata": {},
   "outputs": [],
   "source": [
    "aviation_1 = aviation_1.loc[aviation_1['Purpose.of.flight'].isin(['Business',\n",
    "                                                                  'Executive/corporate',\n",
    "                                                                  'Personal'])]"
   ]
  },
  {
   "cell_type": "markdown",
   "metadata": {},
   "source": [
    "## DATA CLEANING"
   ]
  },
  {
   "cell_type": "markdown",
   "metadata": {},
   "source": [
    "Missing values and duplicated values pose an issue when performing data analysis and as such it is essential to deal with them in preparation for data analysis. Firstly, let's check whether any missing and duplicate values exist in our dataframes:"
   ]
  },
  {
   "cell_type": "markdown",
   "metadata": {},
   "source": [
    "#### 1. AVIATION1 DATAFRAME"
   ]
  },
  {
   "cell_type": "code",
   "execution_count": 21,
   "metadata": {},
   "outputs": [
    {
     "name": "stdout",
     "output_type": "stream",
     "text": [
      "----Missing Values----\n",
      "\n",
      "Total.Injuries        8360\n",
      "Aircraft.Category     6107\n",
      "Engine.Type           2376\n",
      "Number.of.Engines     1026\n",
      "Aircraft.damage        187\n",
      "Location                 3\n",
      "Country                  1\n",
      "Investigation.Type       0\n",
      "Event.Date               0\n",
      "Make                     0\n",
      "Model                    0\n",
      "Purpose.of.flight        0\n",
      "dtype: int64 \n",
      "\n",
      "----Duplicate Values----\n",
      "\n",
      "False    22591\n",
      "True         4\n",
      "Name: count, dtype: int64 \n",
      "\n"
     ]
    }
   ],
   "source": [
    "# Let's call out a  function embedded in the Data_Info script for previewing the number of missing and duplicate values\n",
    "from Data_Info import cleaning \n",
    "\n",
    "# Check the aviation df for any missing and duplicate values\n",
    "cleaning(aviation_1)"
   ]
  },
  {
   "cell_type": "markdown",
   "metadata": {},
   "source": [
    "There are a lot of columns with missing values. However, only 17 rows are duplicate values so let's start by dropping the duplicate values:"
   ]
  },
  {
   "cell_type": "code",
   "execution_count": 22,
   "metadata": {},
   "outputs": [
    {
     "data": {
      "text/plain": [
       "False    22591\n",
       "Name: count, dtype: int64"
      ]
     },
     "execution_count": 22,
     "metadata": {},
     "output_type": "execute_result"
    }
   ],
   "source": [
    "# Drop the duplicate values\n",
    "aviation_1 = aviation_1.drop_duplicates()\n",
    "# Check whether the duplicate values have been dropped\n",
    "aviation_1.duplicated().value_counts()"
   ]
  },
  {
   "cell_type": "markdown",
   "metadata": {},
   "source": [
    "After dealing with the duplicate values,let's now deal with the missing values. `Total.Injuries` column has around 12% of the values missing. It's an essential column that will be used in the analysis so it will be best to fill the missing values with the median as it is not affected by any outliers:"
   ]
  },
  {
   "cell_type": "code",
   "execution_count": 23,
   "metadata": {},
   "outputs": [
    {
     "data": {
      "text/plain": [
       "dtype('float64')"
      ]
     },
     "execution_count": 23,
     "metadata": {},
     "output_type": "execute_result"
    }
   ],
   "source": [
    "# Check the data type for the column\n",
    "aviation_1['Total.Injuries'].dtype"
   ]
  },
  {
   "cell_type": "code",
   "execution_count": 24,
   "metadata": {},
   "outputs": [],
   "source": [
    "# Fill the missing data with the column's median\n",
    "aviation_1['Total.Injuries'] = aviation_1['Total.Injuries'].fillna(aviation_1['Total.Injuries'].median())"
   ]
  },
  {
   "cell_type": "markdown",
   "metadata": {},
   "source": [
    "The next column to check is the `Purpose.of.flight` column. The column has a total of 6034 rows with missing values. This number is not significant and thus we can consider other options of dealing with missing values such as replacing the missing values with the mean, median or mode of the data. To begin this process, let's first check the column's data type:"
   ]
  },
  {
   "cell_type": "code",
   "execution_count": 25,
   "metadata": {},
   "outputs": [
    {
     "data": {
      "text/plain": [
       "dtype('O')"
      ]
     },
     "execution_count": 25,
     "metadata": {},
     "output_type": "execute_result"
    }
   ],
   "source": [
    "aviation_1['Purpose.of.flight'].dtype"
   ]
  },
  {
   "cell_type": "markdown",
   "metadata": {},
   "source": [
    "The column has 'O' meaning it comprises of string values. This eliminates replacing the missing values with the mean since categorical data doesn't have a mean or a median. The next available option is replacing the missing values with the mode. Let's first create a function that replaces missing values in categorical columns with the column's mode:"
   ]
  },
  {
   "cell_type": "code",
   "execution_count": 26,
   "metadata": {},
   "outputs": [],
   "source": [
    "# Create a function for replacing missing values with the mode\n",
    "def fill_values(column):\n",
    "    return aviation_1[column].fillna(aviation_1[column].value_counts().idxmax())"
   ]
  },
  {
   "cell_type": "code",
   "execution_count": 27,
   "metadata": {},
   "outputs": [],
   "source": [
    "# Fill the missing values in the column with the mode\n",
    "aviation_1['Purpose.of.flight'] = fill_values('Purpose.of.flight')"
   ]
  },
  {
   "cell_type": "markdown",
   "metadata": {},
   "source": [
    "The next column is the `Number.of.Engines` column with a total of 4719 rows with missing values. Let's check the data type for the column first:"
   ]
  },
  {
   "cell_type": "code",
   "execution_count": 28,
   "metadata": {},
   "outputs": [
    {
     "data": {
      "text/plain": [
       "dtype('float64')"
      ]
     },
     "execution_count": 28,
     "metadata": {},
     "output_type": "execute_result"
    }
   ],
   "source": [
    "aviation_1['Number.of.Engines'].dtype"
   ]
  },
  {
   "cell_type": "markdown",
   "metadata": {},
   "source": [
    "The data type in the column is floats. The next thing is deciding whether to fill the missing values with the mean, median or mode. The mean is prone to be affected by outliers while the median isn't and thus it would be a good option to use the median:"
   ]
  },
  {
   "cell_type": "code",
   "execution_count": 29,
   "metadata": {},
   "outputs": [],
   "source": [
    "# Fill the missing values with the median\n",
    "aviation_1['Number.of.Engines'] = aviation_1['Number.of.Engines'].fillna(aviation_1['Number.of.Engines'].median())"
   ]
  },
  {
   "cell_type": "markdown",
   "metadata": {},
   "source": [
    "The last two columns that the missing values will be replaced are the `Aircraft.Category` and `Engine.Type` and the `Aircraft.damage` columns. Let's check the data types in the three columns:"
   ]
  },
  {
   "cell_type": "code",
   "execution_count": 30,
   "metadata": {},
   "outputs": [
    {
     "name": "stdout",
     "output_type": "stream",
     "text": [
      "The data type in the Aircraft Category column is object\n",
      "The data type in the Aircraft Damage column is object\n",
      "The data type in the Engine Type column is object\n"
     ]
    }
   ],
   "source": [
    "print(f'The data type in the Aircraft Category column is {aviation_1['Aircraft.Category'].dtype}')\n",
    "print(f'The data type in the Aircraft Damage column is {aviation_1['Aircraft.damage'].dtype}')\n",
    "print(f'The data type in the Engine Type column is {aviation_1['Engine.Type'].dtype}')"
   ]
  },
  {
   "cell_type": "markdown",
   "metadata": {},
   "source": [
    "All of the columns comprise of string values. We will need to replace the missing values with the mode values of the three columns:"
   ]
  },
  {
   "cell_type": "code",
   "execution_count": 31,
   "metadata": {},
   "outputs": [],
   "source": [
    "aviation_1['Aircraft.Category'] = fill_values('Aircraft.Category')\n",
    "aviation_1['Aircraft.damage'] = fill_values('Aircraft.damage')\n",
    "aviation_1['Engine.Type'] = fill_values('Engine.Type')"
   ]
  },
  {
   "cell_type": "markdown",
   "metadata": {},
   "source": [
    "Next, let's check the remaining columns with missing values:"
   ]
  },
  {
   "cell_type": "code",
   "execution_count": 32,
   "metadata": {},
   "outputs": [
    {
     "data": {
      "text/plain": [
       "Investigation.Type    0\n",
       "Event.Date            0\n",
       "Location              3\n",
       "Country               1\n",
       "Total.Injuries        0\n",
       "Aircraft.Category     0\n",
       "Make                  0\n",
       "Model                 0\n",
       "Number.of.Engines     0\n",
       "Engine.Type           0\n",
       "Purpose.of.flight     0\n",
       "Aircraft.damage       0\n",
       "dtype: int64"
      ]
     },
     "execution_count": 32,
     "metadata": {},
     "output_type": "execute_result"
    }
   ],
   "source": [
    "aviation_1.isna().sum()"
   ]
  },
  {
   "cell_type": "markdown",
   "metadata": {},
   "source": [
    "The remaining rows with missing values are very insignificant meaning they can be dropped:"
   ]
  },
  {
   "cell_type": "code",
   "execution_count": 33,
   "metadata": {},
   "outputs": [],
   "source": [
    "# Drop the remaining missing values\n",
    "aviation_1 = aviation_1.dropna()"
   ]
  },
  {
   "cell_type": "markdown",
   "metadata": {},
   "source": [
    "Let's check once more if there are any missing values left:"
   ]
  },
  {
   "cell_type": "code",
   "execution_count": 34,
   "metadata": {},
   "outputs": [
    {
     "data": {
      "text/plain": [
       "Investigation.Type    0\n",
       "Event.Date            0\n",
       "Location              0\n",
       "Country               0\n",
       "Total.Injuries        0\n",
       "Aircraft.Category     0\n",
       "Make                  0\n",
       "Model                 0\n",
       "Number.of.Engines     0\n",
       "Engine.Type           0\n",
       "Purpose.of.flight     0\n",
       "Aircraft.damage       0\n",
       "dtype: int64"
      ]
     },
     "execution_count": 34,
     "metadata": {},
     "output_type": "execute_result"
    }
   ],
   "source": [
    "aviation_1.isna().sum()"
   ]
  },
  {
   "cell_type": "markdown",
   "metadata": {},
   "source": [
    "Voila! There aren't any rows with missing values left. Let's check the final size of the dataframe."
   ]
  },
  {
   "cell_type": "code",
   "execution_count": 35,
   "metadata": {},
   "outputs": [
    {
     "data": {
      "text/plain": [
       "(22587, 12)"
      ]
     },
     "execution_count": 35,
     "metadata": {},
     "output_type": "execute_result"
    }
   ],
   "source": [
    "aviation_1.shape"
   ]
  },
  {
   "cell_type": "markdown",
   "metadata": {},
   "source": [
    "Let's now move on to the `states` dataframe."
   ]
  },
  {
   "cell_type": "markdown",
   "metadata": {},
   "source": [
    "#### 2. STATES DATAFRAME"
   ]
  },
  {
   "cell_type": "code",
   "execution_count": 36,
   "metadata": {},
   "outputs": [
    {
     "name": "stdout",
     "output_type": "stream",
     "text": [
      "----Missing Values----\n",
      "\n",
      "US_State        0\n",
      "Abbreviation    0\n",
      "dtype: int64 \n",
      "\n",
      "----Duplicate Values----\n",
      "\n",
      "False    62\n",
      "Name: count, dtype: int64 \n",
      "\n"
     ]
    }
   ],
   "source": [
    "# Check for any missing or duplicate values\n",
    "cleaning(states)"
   ]
  },
  {
   "cell_type": "markdown",
   "metadata": {},
   "source": [
    "The dataframe has no missing values nor duplicate values. This gives us the go ahead to proceed to data analysis."
   ]
  },
  {
   "cell_type": "markdown",
   "metadata": {},
   "source": [
    "## DATA ANALYSIS"
   ]
  },
  {
   "cell_type": "markdown",
   "metadata": {},
   "source": [
    "After data cleaning and preparation, the datasets are now ready for analysis to derive valuable insights. The analysis will be conducted on a piecemeal basis, i.e., objective by objective.\n",
    "\n",
    "### Objective 1: Identify the airplane makes and models with the lowest accident rates.\n",
    "\n",
    "The goal of the first objective is to identify airplane models and manufacturers with the lowest accident rates. Aircraft with the best safety records will be the most advisable for use. This analysis will be conducted by examining which airplane makes and models appear the least in the dataset, as well as assessing the extent of damage sustained in accidents.\n",
    "\n",
    "To begin with, let's check which manufacturers have the highest and lowest accident rates:\n"
   ]
  },
  {
   "cell_type": "code",
   "execution_count": 37,
   "metadata": {},
   "outputs": [],
   "source": [
    "# Count the occurrences of each model\n",
    "make_counts = aviation_1['Make'].value_counts()\n",
    "\n",
    "# Filter models that have one accident\n",
    "one_accident = make_counts[make_counts == 1]\n",
    "\n",
    "# Get the 'Make' and 'Model' columns for these models\n",
    "least_frequent_df=aviation_1[aviation_1['Model'].isin(one_accident.index)][['Make','Model','Aircraft.damage','Engine.Type', \n",
    "                                                                              'Number.of.Engines', 'Total.Injuries']]\n",
    "least_frequent_df.reset_index(inplace=True)\n",
    "least_frequent_df.drop(columns=['index'], inplace=True)"
   ]
  },
  {
   "cell_type": "code",
   "execution_count": 38,
   "metadata": {},
   "outputs": [
    {
     "data": {
      "text/html": [
       "<div>\n",
       "<style scoped>\n",
       "    .dataframe tbody tr th:only-of-type {\n",
       "        vertical-align: middle;\n",
       "    }\n",
       "\n",
       "    .dataframe tbody tr th {\n",
       "        vertical-align: top;\n",
       "    }\n",
       "\n",
       "    .dataframe thead th {\n",
       "        text-align: right;\n",
       "    }\n",
       "</style>\n",
       "<table border=\"1\" class=\"dataframe\">\n",
       "  <thead>\n",
       "    <tr style=\"text-align: right;\">\n",
       "      <th></th>\n",
       "      <th>Make</th>\n",
       "      <th>Model</th>\n",
       "      <th>Aircraft.damage</th>\n",
       "      <th>Engine.Type</th>\n",
       "      <th>Number.of.Engines</th>\n",
       "      <th>Total.Injuries</th>\n",
       "    </tr>\n",
       "  </thead>\n",
       "  <tbody>\n",
       "    <tr>\n",
       "      <th>0</th>\n",
       "      <td>Jack Mcdaniel</td>\n",
       "      <td>Rans S-12</td>\n",
       "      <td>Substantial</td>\n",
       "      <td>Reciprocating</td>\n",
       "      <td>1.0</td>\n",
       "      <td>0.0</td>\n",
       "    </tr>\n",
       "    <tr>\n",
       "      <th>1</th>\n",
       "      <td>Christian</td>\n",
       "      <td>Rans S-12</td>\n",
       "      <td>Substantial</td>\n",
       "      <td>Reciprocating</td>\n",
       "      <td>1.0</td>\n",
       "      <td>0.0</td>\n",
       "    </tr>\n",
       "    <tr>\n",
       "      <th>2</th>\n",
       "      <td>Bradley</td>\n",
       "      <td>Midget Mustang</td>\n",
       "      <td>Substantial</td>\n",
       "      <td>Reciprocating</td>\n",
       "      <td>1.0</td>\n",
       "      <td>0.0</td>\n",
       "    </tr>\n",
       "    <tr>\n",
       "      <th>3</th>\n",
       "      <td>Raum</td>\n",
       "      <td>Rans S-12</td>\n",
       "      <td>Substantial</td>\n",
       "      <td>Reciprocating</td>\n",
       "      <td>1.0</td>\n",
       "      <td>0.0</td>\n",
       "    </tr>\n",
       "    <tr>\n",
       "      <th>4</th>\n",
       "      <td>Morrison</td>\n",
       "      <td>Rans S-12</td>\n",
       "      <td>Minor</td>\n",
       "      <td>Reciprocating</td>\n",
       "      <td>1.0</td>\n",
       "      <td>0.0</td>\n",
       "    </tr>\n",
       "  </tbody>\n",
       "</table>\n",
       "</div>"
      ],
      "text/plain": [
       "            Make           Model Aircraft.damage    Engine.Type  \\\n",
       "0  Jack Mcdaniel       Rans S-12     Substantial  Reciprocating   \n",
       "1      Christian       Rans S-12     Substantial  Reciprocating   \n",
       "2        Bradley  Midget Mustang     Substantial  Reciprocating   \n",
       "3           Raum       Rans S-12     Substantial  Reciprocating   \n",
       "4       Morrison       Rans S-12           Minor  Reciprocating   \n",
       "\n",
       "   Number.of.Engines  Total.Injuries  \n",
       "0                1.0             0.0  \n",
       "1                1.0             0.0  \n",
       "2                1.0             0.0  \n",
       "3                1.0             0.0  \n",
       "4                1.0             0.0  "
      ]
     },
     "execution_count": 38,
     "metadata": {},
     "output_type": "execute_result"
    }
   ],
   "source": [
    "# Preview the new dataframe\n",
    "least_frequent_df.head()"
   ]
  },
  {
   "cell_type": "markdown",
   "metadata": {},
   "source": [
    "Next, let's find the top ten plane makes(manufacturers) who occur frequently in the dataframe:"
   ]
  },
  {
   "cell_type": "code",
   "execution_count": 39,
   "metadata": {},
   "outputs": [
    {
     "data": {
      "text/plain": [
       "Make\n",
       "Aerotrike            3\n",
       "Raytheon             2\n",
       "Dayton A Babcock     2\n",
       "Pereyra              2\n",
       "American Autogyro    2\n",
       "Trick Trikes         2\n",
       "Jack Mcdaniel        1\n",
       "Sutphin              1\n",
       "Korrison Tom         1\n",
       "Team Inc             1\n",
       "Name: count, dtype: int64"
      ]
     },
     "execution_count": 39,
     "metadata": {},
     "output_type": "execute_result"
    }
   ],
   "source": [
    "# Assign the makes to models df\n",
    "top_10_makes = least_frequent_df['Make'].value_counts().head(10)\n",
    "top_10_makes"
   ]
  },
  {
   "cell_type": "code",
   "execution_count": 40,
   "metadata": {},
   "outputs": [
    {
     "data": {
      "image/png": "[encoded data removed]",
      "text/plain": [
       "<Figure size 1000x500 with 1 Axes>"
      ]
     },
     "metadata": {},
     "output_type": "display_data"
    }
   ],
   "source": [
    "fig, ax = plt.subplots(figsize=(10,5))\n",
    "sns.set_style(\"whitegrid\")\n",
    "sns.set_palette(\"muted\")\n",
    "sns.barplot(x=top_10_makes.index, y=top_10_makes)\n",
    "plt.xticks(rotation=45)\n",
    "ax.set_xlabel('Aeroplane Make')\n",
    "ax.set_ylabel('Frequency')\n",
    "ax.set_title('Top 10 Aeroplane Makes with the Lowest Accident Rates');"
   ]
  },
  {
   "cell_type": "markdown",
   "metadata": {},
   "source": [
    "Now that we've identified the airplane manufacturers with only one recorded accidents, let's explore which models from these manufacturers have the lowest accident occurrences. Since there are a lot of models with low accident rates, the data will also be filtered with regard to the `Aircraft.damage` and `Total.Injuries` column where only planes with minor aircraft damage and less than 20 injuries will be shown."
   ]
  },
  {
   "cell_type": "code",
   "execution_count": 56,
   "metadata": {},
   "outputs": [],
   "source": [
    "# Filter the data to have only planes with minor aircraft damage and less than 20 Injuries\n",
    "filtered = aviation_1.loc[(aviation_1['Aircraft.damage'] == 'Minor') & \n",
    "                                 (aviation_1['Total.Injuries']  < 20),['Make', 'Model', 'Engine.Type',\n",
    "                                                                     'Purpose.of.flight', 'Event.Date']]\n",
    "\n",
    "# Convert the filtered data to an excel file for importing into Tableau\n",
    "filtered['Event.Year'] = filtered['Event.Date'].dt.year\n",
    "filtered.drop('Event.Date', axis=1, inplace=True)\n",
    "aviation_1.to_excel('./Data/Filtered_Aviation_Data.xlsx', index=False)\n",
    "\n",
    "filtered_make = filtered['Make'].value_counts().head()"
   ]
  },
  {
   "cell_type": "code",
   "execution_count": 49,
   "metadata": {},
   "outputs": [
    {
     "data": {
      "image/png": "[encoded data removed]",
      "text/plain": [
       "<Figure size 1000x500 with 1 Axes>"
      ]
     },
     "metadata": {},
     "output_type": "display_data"
    }
   ],
   "source": [
    "# Plot the results\n",
    "fig, ax = plt.subplots(figsize=(10,5))\n",
    "sns.barplot(x=filtered_make.index, y=filtered_make.values)\n",
    "plt.xticks(rotation=45)\n",
    "ax.set_xlabel('Aeroplane Make')\n",
    "ax.set_ylabel('Frequency')\n",
    "ax.set_title('Top 5 Aeroplane Makes with Minor Damage and less than 20 Injuries');"
   ]
  },
  {
   "cell_type": "code",
   "execution_count": 43,
   "metadata": {},
   "outputs": [
    {
     "data": {
      "text/html": [
       "<div>\n",
       "<style scoped>\n",
       "    .dataframe tbody tr th:only-of-type {\n",
       "        vertical-align: middle;\n",
       "    }\n",
       "\n",
       "    .dataframe tbody tr th {\n",
       "        vertical-align: top;\n",
       "    }\n",
       "\n",
       "    .dataframe thead th {\n",
       "        text-align: right;\n",
       "    }\n",
       "</style>\n",
       "<table border=\"1\" class=\"dataframe\">\n",
       "  <thead>\n",
       "    <tr style=\"text-align: right;\">\n",
       "      <th></th>\n",
       "      <th>Cessna</th>\n",
       "      <th>Piper</th>\n",
       "      <th>Beech</th>\n",
       "    </tr>\n",
       "  </thead>\n",
       "  <tbody>\n",
       "    <tr>\n",
       "      <th>0</th>\n",
       "      <td>172M</td>\n",
       "      <td>Pa-46-310P</td>\n",
       "      <td>58</td>\n",
       "    </tr>\n",
       "    <tr>\n",
       "      <th>1</th>\n",
       "      <td>402B</td>\n",
       "      <td>Pa-46-500Tp</td>\n",
       "      <td>V35</td>\n",
       "    </tr>\n",
       "    <tr>\n",
       "      <th>2</th>\n",
       "      <td>560</td>\n",
       "      <td>Pa28R</td>\n",
       "      <td>200</td>\n",
       "    </tr>\n",
       "    <tr>\n",
       "      <th>3</th>\n",
       "      <td>R182</td>\n",
       "      <td>Pa-32Rt-300T</td>\n",
       "      <td>C24R</td>\n",
       "    </tr>\n",
       "    <tr>\n",
       "      <th>4</th>\n",
       "      <td>525</td>\n",
       "      <td>Pa-31T1</td>\n",
       "      <td>A36</td>\n",
       "    </tr>\n",
       "  </tbody>\n",
       "</table>\n",
       "</div>"
      ],
      "text/plain": [
       "  Cessna         Piper Beech\n",
       "0   172M    Pa-46-310P    58\n",
       "1   402B   Pa-46-500Tp   V35\n",
       "2    560         Pa28R   200\n",
       "3   R182  Pa-32Rt-300T  C24R\n",
       "4    525       Pa-31T1   A36"
      ]
     },
     "execution_count": 43,
     "metadata": {},
     "output_type": "execute_result"
    }
   ],
   "source": [
    "# Create a list of best 3 Models for each Make\n",
    "best_models = {}\n",
    "for i in filtered_make.head(3).index.tolist():\n",
    "    models = filtered.loc[filtered['Make'] == i, 'Model']\n",
    "    best_models[i] = models.value_counts().head().sort_values(ascending=False).index.tolist()\n",
    "best_models_df = pd.DataFrame(best_models) \n",
    "best_models_df"
   ]
  },
  {
   "cell_type": "markdown",
   "metadata": {},
   "source": [
    "### Objective 2: Determine which airplane engine types are associated with the lowest crash rates."
   ]
  },
  {
   "cell_type": "markdown",
   "metadata": {},
   "source": [
    "The second objective will be to check which the types of engines of aircraft that were used by planes that had the lowest crashes. This will help in establishing which engine types are the most reliable and not prone to failure. We will use the `least_frequent_df` created in objective one since it contains the planes with the lowest crash rates"
   ]
  },
  {
   "cell_type": "code",
   "execution_count": 44,
   "metadata": {},
   "outputs": [],
   "source": [
    "engines = filtered['Engine.Type'].value_counts().index.tolist()\n",
    "engines_count = filtered['Engine.Type'].value_counts().values.tolist()"
   ]
  },
  {
   "cell_type": "code",
   "execution_count": 45,
   "metadata": {},
   "outputs": [
    {
     "data": {
      "image/png": "[encoded data removed]",
      "text/plain": [
       "<Figure size 1000x500 with 1 Axes>"
      ]
     },
     "metadata": {},
     "output_type": "display_data"
    }
   ],
   "source": [
    "plt.figure(figsize=(10,5))\n",
    "sns.barplot(x=engines, y=engines_count)\n",
    "plt.xlabel('Engine Types')\n",
    "plt.ylabel('Frequency')\n",
    "plt.title('Best Engine Types with Lowest Crash Rates');"
   ]
  },
  {
   "cell_type": "markdown",
   "metadata": {},
   "source": [
    "The three best engines to use are the `Reciprocating`, `Turbo Fan` and `Turbo Prop` respectively. "
   ]
  },
  {
   "cell_type": "markdown",
   "metadata": {},
   "source": [
    "### Objective 3: Identify the safest airplane operations with the lowest incidence of plane crashes."
   ]
  },
  {
   "cell_type": "markdown",
   "metadata": {},
   "source": [
    "This objective will aim to uncover the safest airplane operations that put the plane to the lowest risk of an accident. The insight derived from this will help quide Vanguard on choosing which operations to focus on and which to avoid in order to lower the probability of a plane crash\n",
    "\n",
    "To do this, we will use the `filtered` which contains planes with one accident only, had minor damage after the accident and had less than 20 injuries:"
   ]
  },
  {
   "cell_type": "code",
   "execution_count": 46,
   "metadata": {},
   "outputs": [],
   "source": [
    "purpose = filtered['Purpose.of.flight'].value_counts().index\n",
    "purpose_count = filtered['Purpose.of.flight'].value_counts().values"
   ]
  },
  {
   "cell_type": "code",
   "execution_count": 47,
   "metadata": {},
   "outputs": [
    {
     "data": {
      "image/png": "[encoded data removed]",
      "text/plain": [
       "<Figure size 1000x500 with 1 Axes>"
      ]
     },
     "metadata": {},
     "output_type": "display_data"
    }
   ],
   "source": [
    "plt.figure(figsize=(10,5))\n",
    "sns.barplot(x=purpose, y=purpose_count)\n",
    "plt.xlabel('Purpose of Flight')\n",
    "plt.ylabel('No. of Accidents')\n",
    "plt.title('No. of Accidents per Purpose of Flight');"
   ]
  },
  {
   "cell_type": "markdown",
   "metadata": {},
   "source": [
    "## Findings and Recommendations"
   ]
  },
  {
   "cell_type": "markdown",
   "metadata": {},
   "source": [
    "**Objective 1: Identify the airplane models and manufacturers with the lowest accident rates.**\n",
    "\n",
    "The goal of this objective was to identify airplane models and manufacturers with the lowest accident rates. After analysis, five airplane makes stood out to be the best since they had only one accident recorded. These planes were **Aerotrike, Raytheon, Dayton A Babcock, Pereyra** and **American Autogyro**. However, there were a lot of airplane manufacturers with record of one accident accross their fleet so further filtering was done to only remain with planes which sustained minimal damage after the crash and also had less than 20 total injuries. The top three manufacturers that stood out were **Cessna, Beech** and **Piper**. The models made by these manufacturers that also had very low accident rates are in the table below:"
   ]
  },
  {
   "cell_type": "code",
   "execution_count": 48,
   "metadata": {},
   "outputs": [
    {
     "data": {
      "text/html": [
       "<div>\n",
       "<style scoped>\n",
       "    .dataframe tbody tr th:only-of-type {\n",
       "        vertical-align: middle;\n",
       "    }\n",
       "\n",
       "    .dataframe tbody tr th {\n",
       "        vertical-align: top;\n",
       "    }\n",
       "\n",
       "    .dataframe thead th {\n",
       "        text-align: right;\n",
       "    }\n",
       "</style>\n",
       "<table border=\"1\" class=\"dataframe\">\n",
       "  <thead>\n",
       "    <tr style=\"text-align: right;\">\n",
       "      <th></th>\n",
       "      <th>Cessna</th>\n",
       "      <th>Piper</th>\n",
       "      <th>Beech</th>\n",
       "    </tr>\n",
       "  </thead>\n",
       "  <tbody>\n",
       "    <tr>\n",
       "      <th>0</th>\n",
       "      <td>172M</td>\n",
       "      <td>Pa-46-310P</td>\n",
       "      <td>58</td>\n",
       "    </tr>\n",
       "    <tr>\n",
       "      <th>1</th>\n",
       "      <td>402B</td>\n",
       "      <td>Pa-46-500Tp</td>\n",
       "      <td>V35</td>\n",
       "    </tr>\n",
       "    <tr>\n",
       "      <th>2</th>\n",
       "      <td>560</td>\n",
       "      <td>Pa28R</td>\n",
       "      <td>200</td>\n",
       "    </tr>\n",
       "    <tr>\n",
       "      <th>3</th>\n",
       "      <td>R182</td>\n",
       "      <td>Pa-32Rt-300T</td>\n",
       "      <td>C24R</td>\n",
       "    </tr>\n",
       "    <tr>\n",
       "      <th>4</th>\n",
       "      <td>525</td>\n",
       "      <td>Pa-31T1</td>\n",
       "      <td>A36</td>\n",
       "    </tr>\n",
       "  </tbody>\n",
       "</table>\n",
       "</div>"
      ],
      "text/plain": [
       "  Cessna         Piper Beech\n",
       "0   172M    Pa-46-310P    58\n",
       "1   402B   Pa-46-500Tp   V35\n",
       "2    560         Pa28R   200\n",
       "3   R182  Pa-32Rt-300T  C24R\n",
       "4    525       Pa-31T1   A36"
      ]
     },
     "execution_count": 48,
     "metadata": {},
     "output_type": "execute_result"
    }
   ],
   "source": [
    "best_models_df"
   ]
  },
  {
   "cell_type": "markdown",
   "metadata": {},
   "source": [
    "**Objective 2: Determine which airplane engine types are associated with the lowest crash rates.**\n",
    "\n",
    "The aim of this objective was to establishwhich engine types are the most reliable and not prone to failure. \n",
    "The three engine types that were common in airplanes that had only one recorded accident were **Reciprocating, Turbo Fan** and **Turbo Prop engines**. \n",
    "It will be advisable if these engines were put into consideration when the planes are being purchased since they have a good track record and seem reliable and not prone to failure. These engines are also very fuel efficient and adhere to the noise regulations as compared to engines such as the turbo jet engine which is very loud and fuel inefficient."
   ]
  },
  {
   "cell_type": "markdown",
   "metadata": {},
   "source": [
    "**Objective 3: Identify the safest airplane operations with the lowest incidence of plane crashes.**\n",
    "\n",
    "The goal of this objective was to uncover the safest airplane operations that put the plane to the lowest risk of an accident. Planes used in the private enterprise have a higher probability of crashing while planes used in the business and executive/corporate sector have the lowest probability of crashing. This is because many private pilots may have less training, fewer flight hours, and less experience handling emergencies compared to corporate pilots. Moreover, planes used in the commercial sector tend to be more advanced and have advanced avionics and safety features. When operating the planes in the private sector, it will be advisable not to procure the plane to individuals  who are not well versed with the operation of that particular plane model."
   ]
  },
  {
   "cell_type": "code",
   "execution_count": null,
   "metadata": {},
   "outputs": [],
   "source": []
  }
 ],
 "metadata": {
  "kernelspec": {
   "display_name": "Python (learn-env)",
   "language": "python",
   "name": "learn-env"
  },
  "language_info": {
   "codemirror_mode": {
    "name": "ipython",
    "version": 3
   },
   "file_extension": ".py",
   "mimetype": "text/x-python",
   "name": "python",
   "nbconvert_exporter": "python",
   "pygments_lexer": "ipython3",
   "version": "3.12.7"
  }
 },
 "nbformat": 4,
 "nbformat_minor": 4
}
